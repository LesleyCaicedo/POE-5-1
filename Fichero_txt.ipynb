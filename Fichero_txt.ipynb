{
  "nbformat": 4,
  "nbformat_minor": 0,
  "metadata": {
    "colab": {
      "provenance": []
    },
    "kernelspec": {
      "name": "python3",
      "display_name": "Python 3"
    },
    "language_info": {
      "name": "python"
    }
  },
  "cells": [
    {
      "cell_type": "code",
      "execution_count": 2,
      "metadata": {
        "id": "Wut0l8J13PjD"
      },
      "outputs": [],
      "source": [
        "with open('mi_fichero', 'w') as f:\n",
        "    f.write('Hola mundo')"
      ]
    }
  ]
}